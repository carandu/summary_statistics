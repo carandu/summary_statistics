{
 "cells": [
  {
   "cell_type": "code",
   "execution_count": 1,
   "metadata": {},
   "outputs": [],
   "source": [
    "import numpy as np\n",
    "import pandas as pd\n",
    "import matplotlib.pyplot as plt\n",
    "from scipy import stats\n",
    "%matplotlib inline"
   ]
  },
  {
   "cell_type": "code",
   "execution_count": 78,
   "metadata": {},
   "outputs": [],
   "source": [
    "df_test = pd.DataFrame()\n",
    "df_test['age'] = [28, 42, 27, 24, 35, 54, 35, 37, 70, 21, 32, 45, 26, 50, 44]"
   ]
  },
  {
   "cell_type": "code",
   "execution_count": 79,
   "metadata": {},
   "outputs": [
    {
     "data": {
      "text/plain": [
       "3.4016802570830453"
      ]
     },
     "execution_count": 79,
     "metadata": {},
     "output_type": "execute_result"
    }
   ],
   "source": [
    "np.mean(df_test['age'])\n",
    "np.std(df_test['age'], ddof=1)\n",
    "np.std(df_test['age'], ddof=1) / np.sqrt(len(df_test['age']))\n"
   ]
  },
  {
   "cell_type": "code",
   "execution_count": 80,
   "metadata": {},
   "outputs": [
    {
     "data": {
      "text/plain": [
       "35.0"
      ]
     },
     "execution_count": 80,
     "metadata": {},
     "output_type": "execute_result"
    }
   ],
   "source": [
    "np.median(df_test['age'])"
   ]
  },
  {
   "cell_type": "code",
   "execution_count": 81,
   "metadata": {},
   "outputs": [
    {
     "data": {
      "text/plain": [
       "35"
      ]
     },
     "execution_count": 81,
     "metadata": {},
     "output_type": "execute_result"
    }
   ],
   "source": [
    "import statistics\n",
    "statistics.mode(df_test['age'])"
   ]
  },
  {
   "cell_type": "code",
   "execution_count": 82,
   "metadata": {},
   "outputs": [],
   "source": [
    "df = pd.read_csv('./data/world-population-by-world-regions-post-1820.csv')"
   ]
  },
  {
   "cell_type": "code",
   "execution_count": 83,
   "metadata": {},
   "outputs": [
    {
     "name": "stdout",
     "output_type": "stream",
     "text": [
      "      Entity      Code   Year  Population by region\n",
      "0     Africa       NaN -10000                241901\n",
      "1     Africa       NaN  -9000                342782\n",
      "2     Africa       NaN  -8000                490284\n",
      "3     Africa       NaN  -7000                707844\n",
      "4     Africa       NaN  -6000               1031529\n",
      "5     Africa       NaN  -5000               1517227\n",
      "6     Africa       NaN  -4000               2352091\n",
      "7     Africa       NaN  -3000               4147835\n",
      "8     Africa       NaN  -2000               6259743\n",
      "9     Africa       NaN  -1000               9263872\n",
      "10    Africa       NaN      0              15185668\n",
      "11    Africa       NaN    100              16626739\n",
      "12    Africa       NaN    200              18269986\n",
      "13    Africa       NaN    300              19315228\n",
      "14    Africa       NaN    400              20676601\n",
      "15    Africa       NaN    500              22307213\n",
      "16    Africa       NaN    600              24445556\n",
      "17    Africa       NaN    700              28184551\n",
      "18    Africa       NaN    800              32914604\n",
      "19    Africa       NaN    900              37126286\n",
      "20    Africa       NaN   1000              41465159\n",
      "21    Africa       NaN   1100              44318856\n",
      "22    Africa       NaN   1200              47743011\n",
      "23    Africa       NaN   1300              53531813\n",
      "24    Africa       NaN   1400              57880048\n",
      "25    Africa       NaN   1500              62206640\n",
      "26    Africa       NaN   1600              72815091\n",
      "27    Africa       NaN   1700              80209441\n",
      "28    Africa       NaN   1710              81333556\n",
      "29    Africa       NaN   1720              81582976\n",
      "...      ...       ...    ...                   ...\n",
      "1420   World  OWID_WRL   2071           10484559000\n",
      "1421   World  OWID_WRL   2072           10509046000\n",
      "1422   World  OWID_WRL   2073           10532630000\n",
      "1423   World  OWID_WRL   2074           10555327000\n",
      "1424   World  OWID_WRL   2075           10577156000\n",
      "1425   World  OWID_WRL   2076           10598132000\n",
      "1426   World  OWID_WRL   2077           10618268000\n",
      "1427   World  OWID_WRL   2078           10637574000\n",
      "1428   World  OWID_WRL   2079           10656054000\n",
      "1429   World  OWID_WRL   2080           10673719000\n",
      "1430   World  OWID_WRL   2081           10690577000\n",
      "1431   World  OWID_WRL   2082           10706644000\n",
      "1432   World  OWID_WRL   2083           10721951000\n",
      "1433   World  OWID_WRL   2084           10736533000\n",
      "1434   World  OWID_WRL   2085           10750417000\n",
      "1435   World  OWID_WRL   2086           10763615000\n",
      "1436   World  OWID_WRL   2087           10776129000\n",
      "1437   World  OWID_WRL   2088           10787962000\n",
      "1438   World  OWID_WRL   2089           10799112000\n",
      "1439   World  OWID_WRL   2090           10809576000\n",
      "1440   World  OWID_WRL   2091           10819350000\n",
      "1441   World  OWID_WRL   2092           10828433000\n",
      "1442   World  OWID_WRL   2093           10836817000\n",
      "1443   World  OWID_WRL   2094           10844497000\n",
      "1444   World  OWID_WRL   2095           10851461000\n",
      "1445   World  OWID_WRL   2096           10857694000\n",
      "1446   World  OWID_WRL   2097           10863179000\n",
      "1447   World  OWID_WRL   2098           10867894000\n",
      "1448   World  OWID_WRL   2099           10871811000\n",
      "1449   World  OWID_WRL   2100           10874902000\n",
      "\n",
      "[1450 rows x 4 columns]\n"
     ]
    }
   ],
   "source": [
    "print(df)"
   ]
  },
  {
   "cell_type": "code",
   "execution_count": 84,
   "metadata": {},
   "outputs": [],
   "source": [
    "df = df.rename(columns={'Entity': 'Region'})"
   ]
  },
  {
   "cell_type": "code",
   "execution_count": 85,
   "metadata": {},
   "outputs": [],
   "source": [
    "df_region = df.groupby('Region')\n",
    "df_year = df.groupby('Year')\n",
    "df_population = df.groupby('Population by region')"
   ]
  },
  {
   "cell_type": "code",
   "execution_count": 86,
   "metadata": {},
   "outputs": [
    {
     "data": {
      "text/html": [
       "<div>\n",
       "<style scoped>\n",
       "    .dataframe tbody tr th:only-of-type {\n",
       "        vertical-align: middle;\n",
       "    }\n",
       "\n",
       "    .dataframe tbody tr th {\n",
       "        vertical-align: top;\n",
       "    }\n",
       "\n",
       "    .dataframe thead th {\n",
       "        text-align: right;\n",
       "    }\n",
       "</style>\n",
       "<table border=\"1\" class=\"dataframe\">\n",
       "  <thead>\n",
       "    <tr style=\"text-align: right;\">\n",
       "      <th></th>\n",
       "      <th>Code</th>\n",
       "      <th>Year</th>\n",
       "      <th>Population by region</th>\n",
       "    </tr>\n",
       "    <tr>\n",
       "      <th>Region</th>\n",
       "      <th></th>\n",
       "      <th></th>\n",
       "      <th></th>\n",
       "    </tr>\n",
       "  </thead>\n",
       "  <tbody>\n",
       "    <tr>\n",
       "      <th>Africa</th>\n",
       "      <td>NaN</td>\n",
       "      <td>-10000</td>\n",
       "      <td>241901</td>\n",
       "    </tr>\n",
       "    <tr>\n",
       "      <th>Asia</th>\n",
       "      <td>NaN</td>\n",
       "      <td>-10000</td>\n",
       "      <td>914198</td>\n",
       "    </tr>\n",
       "    <tr>\n",
       "      <th>Europe</th>\n",
       "      <td>NaN</td>\n",
       "      <td>-10000</td>\n",
       "      <td>706597</td>\n",
       "    </tr>\n",
       "    <tr>\n",
       "      <th>Latin America</th>\n",
       "      <td>NaN</td>\n",
       "      <td>-10000</td>\n",
       "      <td>278282</td>\n",
       "    </tr>\n",
       "    <tr>\n",
       "      <th>North America</th>\n",
       "      <td>NaN</td>\n",
       "      <td>-10000</td>\n",
       "      <td>38894</td>\n",
       "    </tr>\n",
       "    <tr>\n",
       "      <th>Oceania</th>\n",
       "      <td>NaN</td>\n",
       "      <td>-10000</td>\n",
       "      <td>251343</td>\n",
       "    </tr>\n",
       "    <tr>\n",
       "      <th>World</th>\n",
       "      <td>OWID_WRL</td>\n",
       "      <td>-10000</td>\n",
       "      <td>2431214</td>\n",
       "    </tr>\n",
       "  </tbody>\n",
       "</table>\n",
       "</div>"
      ],
      "text/plain": [
       "                   Code   Year  Population by region\n",
       "Region                                              \n",
       "Africa              NaN -10000                241901\n",
       "Asia                NaN -10000                914198\n",
       "Europe              NaN -10000                706597\n",
       "Latin America       NaN -10000                278282\n",
       "North America       NaN -10000                 38894\n",
       "Oceania             NaN -10000                251343\n",
       "World          OWID_WRL -10000               2431214"
      ]
     },
     "execution_count": 86,
     "metadata": {},
     "output_type": "execute_result"
    }
   ],
   "source": [
    "df_region.first()\n"
   ]
  },
  {
   "cell_type": "code",
   "execution_count": 87,
   "metadata": {},
   "outputs": [
    {
     "name": "stdout",
     "output_type": "stream",
     "text": [
      "      Region      Code   Year  Population by region\n",
      "0     Africa       NaN -10000                241901\n",
      "1     Africa       NaN  -9000                342782\n",
      "2     Africa       NaN  -8000                490284\n",
      "3     Africa       NaN  -7000                707844\n",
      "4     Africa       NaN  -6000               1031529\n",
      "5     Africa       NaN  -5000               1517227\n",
      "6     Africa       NaN  -4000               2352091\n",
      "7     Africa       NaN  -3000               4147835\n",
      "8     Africa       NaN  -2000               6259743\n",
      "9     Africa       NaN  -1000               9263872\n",
      "10    Africa       NaN      0              15185668\n",
      "11    Africa       NaN    100              16626739\n",
      "12    Africa       NaN    200              18269986\n",
      "13    Africa       NaN    300              19315228\n",
      "14    Africa       NaN    400              20676601\n",
      "15    Africa       NaN    500              22307213\n",
      "16    Africa       NaN    600              24445556\n",
      "17    Africa       NaN    700              28184551\n",
      "18    Africa       NaN    800              32914604\n",
      "19    Africa       NaN    900              37126286\n",
      "20    Africa       NaN   1000              41465159\n",
      "21    Africa       NaN   1100              44318856\n",
      "22    Africa       NaN   1200              47743011\n",
      "23    Africa       NaN   1300              53531813\n",
      "24    Africa       NaN   1400              57880048\n",
      "25    Africa       NaN   1500              62206640\n",
      "26    Africa       NaN   1600              72815091\n",
      "27    Africa       NaN   1700              80209441\n",
      "28    Africa       NaN   1710              81333556\n",
      "29    Africa       NaN   1720              81582976\n",
      "...      ...       ...    ...                   ...\n",
      "1420   World  OWID_WRL   2071           10484559000\n",
      "1421   World  OWID_WRL   2072           10509046000\n",
      "1422   World  OWID_WRL   2073           10532630000\n",
      "1423   World  OWID_WRL   2074           10555327000\n",
      "1424   World  OWID_WRL   2075           10577156000\n",
      "1425   World  OWID_WRL   2076           10598132000\n",
      "1426   World  OWID_WRL   2077           10618268000\n",
      "1427   World  OWID_WRL   2078           10637574000\n",
      "1428   World  OWID_WRL   2079           10656054000\n",
      "1429   World  OWID_WRL   2080           10673719000\n",
      "1430   World  OWID_WRL   2081           10690577000\n",
      "1431   World  OWID_WRL   2082           10706644000\n",
      "1432   World  OWID_WRL   2083           10721951000\n",
      "1433   World  OWID_WRL   2084           10736533000\n",
      "1434   World  OWID_WRL   2085           10750417000\n",
      "1435   World  OWID_WRL   2086           10763615000\n",
      "1436   World  OWID_WRL   2087           10776129000\n",
      "1437   World  OWID_WRL   2088           10787962000\n",
      "1438   World  OWID_WRL   2089           10799112000\n",
      "1439   World  OWID_WRL   2090           10809576000\n",
      "1440   World  OWID_WRL   2091           10819350000\n",
      "1441   World  OWID_WRL   2092           10828433000\n",
      "1442   World  OWID_WRL   2093           10836817000\n",
      "1443   World  OWID_WRL   2094           10844497000\n",
      "1444   World  OWID_WRL   2095           10851461000\n",
      "1445   World  OWID_WRL   2096           10857694000\n",
      "1446   World  OWID_WRL   2097           10863179000\n",
      "1447   World  OWID_WRL   2098           10867894000\n",
      "1448   World  OWID_WRL   2099           10871811000\n",
      "1449   World  OWID_WRL   2100           10874902000\n",
      "\n",
      "[1450 rows x 4 columns]\n"
     ]
    }
   ],
   "source": [
    "print(df)"
   ]
  },
  {
   "cell_type": "code",
   "execution_count": 88,
   "metadata": {},
   "outputs": [
    {
     "data": {
      "image/png": "[encoded data removed]",
      "text/plain": [
       "<Figure size 432x288 with 1 Axes>"
      ]
     },
     "metadata": {
      "needs_background": "light"
     },
     "output_type": "display_data"
    }
   ],
   "source": [
    "plt.plot(df['Region'], df['Population by region'])\n",
    "plt.show()"
   ]
  },
  {
   "cell_type": "code",
   "execution_count": 90,
   "metadata": {},
   "outputs": [
    {
     "name": "stdout",
     "output_type": "stream",
     "text": [
      "0       Africa\n",
      "1       Africa\n",
      "2       Africa\n",
      "3       Africa\n",
      "4       Africa\n",
      "5       Africa\n",
      "6       Africa\n",
      "7       Africa\n",
      "8       Africa\n",
      "9       Africa\n",
      "10      Africa\n",
      "11      Africa\n",
      "12      Africa\n",
      "13      Africa\n",
      "14      Africa\n",
      "15      Africa\n",
      "16      Africa\n",
      "17      Africa\n",
      "18      Africa\n",
      "19      Africa\n",
      "20      Africa\n",
      "21      Africa\n",
      "22      Africa\n",
      "23      Africa\n",
      "24      Africa\n",
      "25      Africa\n",
      "26      Africa\n",
      "27      Africa\n",
      "28      Africa\n",
      "29      Africa\n",
      "         ...  \n",
      "1420     World\n",
      "1421     World\n",
      "1422     World\n",
      "1423     World\n",
      "1424     World\n",
      "1425     World\n",
      "1426     World\n",
      "1427     World\n",
      "1428     World\n",
      "1429     World\n",
      "1430     World\n",
      "1431     World\n",
      "1432     World\n",
      "1433     World\n",
      "1434     World\n",
      "1435     World\n",
      "1436     World\n",
      "1437     World\n",
      "1438     World\n",
      "1439     World\n",
      "1440     World\n",
      "1441     World\n",
      "1442     World\n",
      "1443     World\n",
      "1444     World\n",
      "1445     World\n",
      "1446     World\n",
      "1447     World\n",
      "1448     World\n",
      "1449     World\n",
      "Name: Region, Length: 1450, dtype: object\n"
     ]
    }
   ],
   "source": [
    "print(df['Region'])"
   ]
  },
  {
   "cell_type": "code",
   "execution_count": null,
   "metadata": {},
   "outputs": [],
   "source": [
    "#line on jul 18"
   ]
  }
 ],
 "metadata": {
  "kernelspec": {
   "display_name": "Python 3",
   "language": "python",
   "name": "python3"
  },
  "language_info": {
   "codemirror_mode": {
    "name": "ipython",
    "version": 3
   },
   "file_extension": ".py",
   "mimetype": "text/x-python",
   "name": "python",
   "nbconvert_exporter": "python",
   "pygments_lexer": "ipython3",
   "version": "3.6.8"
  }
 },
 "nbformat": 4,
 "nbformat_minor": 2
}
