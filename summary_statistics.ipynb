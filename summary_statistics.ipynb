{
 "cells": [
  {
   "cell_type": "code",
   "execution_count": 54,
   "metadata": {},
   "outputs": [],
   "source": [
    "import numpy as np\n",
    "import pandas as pd\n",
    "import matplotlib.pyplot as plt\n",
    "import statistics\n",
    "%matplotlib inline"
   ]
  },
  {
   "cell_type": "code",
   "execution_count": 78,
   "metadata": {},
   "outputs": [],
   "source": [
    "#df = pd.DataFrame()\n",
    "ages = [14, 12, 11, 10, 8, 6, 8]\n",
    "#df['name'] = ['Greg', 'Marcia', 'Peter', 'Jan', 'Bobby', 'Cindy', 'Oliver']"
   ]
  },
  {
   "cell_type": "code",
   "execution_count": 79,
   "metadata": {},
   "outputs": [
    {
     "name": "stdout",
     "output_type": "stream",
     "text": [
      "The mean is 9.857142857142858\n",
      "The median is 10.0\n",
      "The variance is 6.408163265306122\n",
      "The standard deviation is 2.531435020952764\n",
      "The standard error is 1.0334540197243194\n",
      "And the mode is 8\n"
     ]
    }
   ],
   "source": [
    "mean = np.mean(ages)\n",
    "median = np.median(ages)\n",
    "variance = np.var(ages)\n",
    "std = np.std(ages)\n",
    "standard_error = std / np.sqrt(len(ages)-1)\n",
    "mode = statistics.mode(ages)\n",
    "\n",
    "print('The mean is ' + str(mean))\n",
    "print('The median is ' + str(median))\n",
    "print('The variance is ' + str(variance))\n",
    "print('The standard deviation is ' +str(std))\n",
    "print('The standard error is ' + str(standard_error))\n",
    "print('And the mode is ' + str(mode))\n"
   ]
  },
  {
   "cell_type": "code",
   "execution_count": 81,
   "metadata": {},
   "outputs": [
    {
     "name": "stdout",
     "output_type": "stream",
     "text": [
      "The mean is 10.0\n",
      "The median is 10.0\n",
      "The variance is 5.428571428571429\n",
      "The standard deviation is 2.32992949004287\n",
      "The standard error is 1.0334540197243194\n",
      "And the mode is 8\n"
     ]
    }
   ],
   "source": [
    "ages2 = [14, 12, 11, 10, 8, 7, 8]\n",
    "\n",
    "mean2 = np.mean(ages2)\n",
    "median2 = np.median(ages2)\n",
    "variance2 = np.var(ages2)\n",
    "std2 = np.std(ages2)\n",
    "standard_error2 = std / np.sqrt(len(ages2)-1)\n",
    "mode2 = statistics.mode(ages2)\n",
    "\n",
    "print('The mean is ' + str(mean2))\n",
    "print('The median is ' + str(median2))\n",
    "print('The variance is ' + str(variance2))\n",
    "print('The standard deviation is ' +str(std2))\n",
    "print('The standard error is ' + str(standard_error2))\n",
    "print('And the mode is ' + str(mode2))\n"
   ]
  },
  {
   "cell_type": "code",
   "execution_count": 84,
   "metadata": {},
   "outputs": [
    {
     "name": "stdout",
     "output_type": "stream",
     "text": [
      "The mean is 9.0\n",
      "The median is 10.0\n",
      "The variance is 15.428571428571429\n",
      "The standard deviation is 3.927922024247863\n",
      "The standard error is 1.0334540197243194\n",
      "There is no mode!\n"
     ]
    }
   ],
   "source": [
    "ages3 = [14, 12, 11, 10, 8, 7, 1]\n",
    "\n",
    "mean3 = np.mean(ages3)\n",
    "median3 = np.median(ages3)\n",
    "variance3 = np.var(ages3)\n",
    "std3 = np.std(ages3)\n",
    "standard_error3 = std / np.sqrt(len(ages3)-1)\n",
    "#mode3 = statistics.mode(ages3)\n",
    "\n",
    "print('The mean is ' + str(mean3))\n",
    "print('The median is ' + str(median3))\n",
    "print('The variance is ' + str(variance3))\n",
    "print('The standard deviation is ' +str(std3))\n",
    "print('The standard error is ' + str(standard_error3))\n",
    "print('There is no mode!')"
   ]
  },
  {
   "cell_type": "code",
   "execution_count": null,
   "metadata": {},
   "outputs": [],
   "source": [
    "# I had an idea of how to answer the question about the magazines, but based on circulation, not on area of interest.\n",
    "\n",
    "# why doesn't the standard error change?"
   ]
  }
 ],
 "metadata": {
  "kernelspec": {
   "display_name": "Python 3",
   "language": "python",
   "name": "python3"
  },
  "language_info": {
   "codemirror_mode": {
    "name": "ipython",
    "version": 3
   },
   "file_extension": ".py",
   "mimetype": "text/x-python",
   "name": "python",
   "nbconvert_exporter": "python",
   "pygments_lexer": "ipython3",
   "version": "3.6.8"
  }
 },
 "nbformat": 4,
 "nbformat_minor": 2
}
